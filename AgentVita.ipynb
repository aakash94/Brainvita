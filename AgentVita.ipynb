{
 "cells": [
  {
   "cell_type": "code",
   "execution_count": 1,
   "metadata": {},
   "outputs": [],
   "source": [
    "from Env import Env\n",
    "import math\n",
    "import random\n",
    "import numpy as np\n",
    "import pandas as pd\n",
    "import pickle\n",
    "from collections import namedtuple\n",
    "from collections import defaultdict\n",
    "from torch.utils.tensorboard import SummaryWriter\n",
    "from IPython.display import clear_output"
   ]
  },
  {
   "cell_type": "code",
   "execution_count": 2,
   "metadata": {},
   "outputs": [],
   "source": [
    "tag_reward = \"reward\"\n",
    "tag_se = \"states_explored\"\n",
    "\n",
    "dict_tuple2index_path = \"dict_tuple2index.pkl\"\n",
    "dataframe_path = \"dataframe.pkl\"\n"
   ]
  },
  {
   "cell_type": "code",
   "execution_count": 3,
   "metadata": {},
   "outputs": [],
   "source": [
    "action_range = list(range(Env.ACTION_N))"
   ]
  },
  {
   "cell_type": "code",
   "execution_count": 4,
   "metadata": {},
   "outputs": [],
   "source": [
    "BATCH_SIZE = 128\n",
    "GAMMA      = 0.9 # discount factor\n",
    "EPSILON    = 1\n",
    "ESUB       = 0.01\n",
    "EMIN       = 0.025\n",
    "LEARN_RATE = 0.01\n",
    "EDECAY = 0.99\n",
    "\n",
    "STATE_N  = Env.DIM * Env.DIM\n",
    "ACTION_N = Env.ACTION_N\n",
    "\n",
    "NUM_EPISODES = 1000000\n",
    "\n",
    "LAMBDA = 0.9   # In Between \n",
    "LAMBDA_S = 0.9 # Closer to MC \n",
    "LAMBDA_F = 0.1 # Closer to TD(0)\n",
    "\n",
    "MINREWARD = 25\n",
    "MINREWARD_INCREMENT = 1\n",
    "INIT_ROW = [-500]*Env.ACTION_N # all actions invalid to start with\n",
    "ET_INIT = [0]*Env.ACTION_N # 0 trace to start with\n",
    "OPTIMISTIC_INTI_VAL = 12"
   ]
  },
  {
   "cell_type": "code",
   "execution_count": 5,
   "metadata": {},
   "outputs": [],
   "source": [
    "env = Env()"
   ]
  },
  {
   "cell_type": "code",
   "execution_count": 6,
   "metadata": {},
   "outputs": [],
   "source": [
    "def np2tuple(np_array_2d):\n",
    "    return tuple(np_array_2d.ravel())"
   ]
  },
  {
   "cell_type": "code",
   "execution_count": 7,
   "metadata": {},
   "outputs": [],
   "source": [
    "tuple2index = defaultdict(lambda:-1)"
   ]
  },
  {
   "cell_type": "code",
   "execution_count": 8,
   "metadata": {},
   "outputs": [],
   "source": [
    "action_header = list(range(ACTION_N))"
   ]
  },
  {
   "cell_type": "code",
   "execution_count": 9,
   "metadata": {},
   "outputs": [],
   "source": [
    "df = pd.DataFrame(columns=action_header, dtype='float64')\n",
    "ets = pd.DataFrame(columns=action_header, dtype='float64')        \n",
    "etf = pd.DataFrame(columns=action_header, dtype='float64')\n",
    "et = pd.DataFrame(columns=action_header, dtype='float64')        "
   ]
  },
  {
   "cell_type": "code",
   "execution_count": 10,
   "metadata": {},
   "outputs": [],
   "source": [
    "def get_index(np_mat):\n",
    "    tup = np2tuple(np_mat)\n",
    "    ind = len(tuple2index)\n",
    "    \n",
    "    if tuple2index[tup] == -1:        \n",
    "        tuple2index[tup] = ind\n",
    "        df.loc[tuple2index[tup]] = INIT_ROW\n",
    "        et.loc[tuple2index[tup]] = ET_INIT\n",
    "        # ets.loc[tuple2index[tup]] = ET_INIT\n",
    "        # etf.loc[tuple2index[tup]] = ET_INIT\n",
    "        \n",
    "        temp_env = Env()\n",
    "        temp_env.set(board_state = np_mat)\n",
    "        valid_action_numbers = temp_env.get_valid_actions()\n",
    "        for action_number in valid_action_numbers:\n",
    "            df[action_number][tuple2index[tup]] = OPTIMISTIC_INTI_VAL\n",
    "        \n",
    "    return tuple2index[tup]"
   ]
  },
  {
   "cell_type": "code",
   "execution_count": 11,
   "metadata": {},
   "outputs": [],
   "source": [
    "def select_action(np_state, ep = 0):\n",
    "    tup = np2tuple(np_state)\n",
    "    sample = random.random()\n",
    "    if sample < ep:\n",
    "        return env.sample_valid_action()\n",
    "    else:\n",
    "        return df.iloc[tuple2index[tup]].idxmax(axis = 0)            "
   ]
  },
  {
   "cell_type": "code",
   "execution_count": 12,
   "metadata": {},
   "outputs": [],
   "source": [
    "def save_pickle():\n",
    "    dict_tuple2index = dict(tuple2index)\n",
    "    df.to_pickle(dataframe_path)\n",
    "\n",
    "    with open(dict_tuple2index_path, 'wb') as f:\n",
    "        pickle.dump(dict_tuple2index, f)\n",
    "        f.close()\n",
    "    "
   ]
  },
  {
   "cell_type": "code",
   "execution_count": 13,
   "metadata": {},
   "outputs": [],
   "source": [
    "def load_pickle():\n",
    "    global df\n",
    "    global tuple2index\n",
    "    df = pd.read_pickle(dataframe_path)\n",
    "    \n",
    "    dict_tuple2index = pickle.load( open( dict_tuple2index_path, \"rb\" ) )\n",
    "    tuple2index = defaultdict(lambda:-1, dict_tuple2index)"
   ]
  },
  {
   "cell_type": "code",
   "execution_count": 14,
   "metadata": {},
   "outputs": [],
   "source": [
    "#load_pickle()\n",
    "writer = SummaryWriter(comment='__')"
   ]
  },
  {
   "cell_type": "code",
   "execution_count": null,
   "metadata": {},
   "outputs": [],
   "source": [
    "### Mod this \n",
    "\n",
    "for i_episode in range(NUM_EPISODES):\n",
    "    state = env.reset()\n",
    "    done = False\n",
    "    total_reward = 0\n",
    "    \n",
    "    for col in et.columns:\n",
    "        et[col].values[:] = 0\n",
    "        # ets[col].values[:] = 0\n",
    "        # etf[col].values[:] = 0\n",
    "    \n",
    "    while not done:\n",
    "        index = get_index(state)\n",
    "        \n",
    "        # ets = ets * LAMBDA_S\n",
    "        # etf = etf * LAMBDA_F\n",
    "        \n",
    "        action = select_action(state)\n",
    "        next_state, reward, done = env.step(action)\n",
    "        next_index = get_index(next_state)\n",
    "        et[action][index] += 1\n",
    "        # ets[action][index] += 1\n",
    "        # etf[action][index] += 1\n",
    "        \n",
    "        next_action = select_action(next_state)     \n",
    "        \n",
    "        if done:\n",
    "            on_board = env.get_count()\n",
    "            print(env.get_state())\n",
    "            if on_board  == 1:\n",
    "                # game success\n",
    "                reward = reward*1000\n",
    "            else:\n",
    "                # wrong solution\n",
    "                # negative reward\n",
    "                reward = -(on_board*10)\n",
    "                \n",
    "        delta = (reward + (df[next_action][next_index] * GAMMA)) - df[action][index]\n",
    "        for action_n in range(ACTION_N):\n",
    "            for row in range(len(tuple2index)):\n",
    "                if et[action_n][row] == 0 or df[action_n][row] == -500 :\n",
    "                    continue\n",
    "                df[action_n][row] += (delta*et[action_n][row]*LEARN_RATE)\n",
    "                et[action_n][row] = et[action_n][row] * LAMBDA * GAMMA\n",
    "        \n",
    "        total_reward += reward        \n",
    "        state = next_state\n",
    "        \n",
    "    writer.add_scalar(tag_reward, total_reward, i_episode)    \n",
    "    writer.add_scalar(tag_se, len(tuple2index), i_episode)\n",
    "    clear_output()\n",
    "    print(total_reward)\n",
    "    print(env.get_state())\n",
    "    \n",
    "    \n",
    "    if i_episode % 50 == 0:\n",
    "        save_pickle()\n",
    "        \n",
    "print('Complete')"
   ]
  }
 ],
 "metadata": {
  "kernelspec": {
   "display_name": "Python 3",
   "language": "python",
   "name": "python3"
  },
  "language_info": {
   "codemirror_mode": {
    "name": "ipython",
    "version": 3
   },
   "file_extension": ".py",
   "mimetype": "text/x-python",
   "name": "python",
   "nbconvert_exporter": "python",
   "pygments_lexer": "ipython3",
   "version": "3.7.1"
  }
 },
 "nbformat": 4,
 "nbformat_minor": 2
}
