{
 "cells": [
  {
   "cell_type": "code",
   "execution_count": 1,
   "metadata": {},
   "outputs": [],
   "source": [
    "from Env import Env\n",
    "import math\n",
    "import random\n",
    "import numpy as np\n",
    "import pandas as pd\n",
    "import pickle\n",
    "from collections import namedtuple\n",
    "from torch.utils.tensorboard import SummaryWriter\n",
    "from IPython.display import clear_output"
   ]
  },
  {
   "cell_type": "code",
   "execution_count": null,
   "metadata": {},
   "outputs": [],
   "source": [
    "tag_reward = \"reward\"\n",
    "tag_se = \"states_explored\"\n",
    "\n",
    "tuple2index_path = \"tuple2index.pkl\"\n",
    "dataframe_path = \"dataframe.pkl\"\n"
   ]
  },
  {
   "cell_type": "code",
   "execution_count": null,
   "metadata": {},
   "outputs": [],
   "source": [
    "action_range = list(range(Env.ACTION_N))"
   ]
  },
  {
   "cell_type": "code",
   "execution_count": null,
   "metadata": {},
   "outputs": [],
   "source": [
    "GAMMA      = 0.9 # discount factor\n",
    "EPSILON    = 1\n",
    "LEARN_RATE = 0.01\n",
    "\n",
    "STATE_N  = Env.DIM * Env.DIM\n",
    "ACTION_N = Env.ACTION_N\n",
    "\n",
    "NUM_EPISODES = 1000000\n",
    "LAMBDA = 0.99   # In Between \n",
    "\n",
    "INIT_ROW = [-500]*Env.ACTION_N # all actions invalid to start with\n",
    "ET_INIT = [0]*Env.ACTION_N # 0 trace to start with\n",
    "OPTIMISTIC_INTI_VAL = 12"
   ]
  },
  {
   "cell_type": "code",
   "execution_count": null,
   "metadata": {},
   "outputs": [],
   "source": [
    "env = Env()"
   ]
  },
  {
   "cell_type": "code",
   "execution_count": null,
   "metadata": {},
   "outputs": [],
   "source": [
    "def np2tuple(np_array_2d):\n",
    "    return tuple(np_array_2d.ravel())"
   ]
  },
  {
   "cell_type": "code",
   "execution_count": null,
   "metadata": {},
   "outputs": [],
   "source": [
    "tuple2index = dict()"
   ]
  },
  {
   "cell_type": "code",
   "execution_count": null,
   "metadata": {},
   "outputs": [],
   "source": [
    "seen_states= set() "
   ]
  },
  {
   "cell_type": "code",
   "execution_count": null,
   "metadata": {},
   "outputs": [],
   "source": [
    "action_header = list(range(ACTION_N))"
   ]
  },
  {
   "cell_type": "code",
   "execution_count": null,
   "metadata": {},
   "outputs": [],
   "source": [
    "df = pd.DataFrame(columns=action_header, dtype='float64')\n",
    "ets = pd.DataFrame(columns=action_header, dtype='float64')        \n",
    "etf = pd.DataFrame(columns=action_header, dtype='float64')\n",
    "et = pd.DataFrame(columns=action_header, dtype='float64')        "
   ]
  },
  {
   "cell_type": "code",
   "execution_count": null,
   "metadata": {},
   "outputs": [],
   "source": [
    "def get_index(np_mat):\n",
    "    tup = np2tuple(np_mat)\n",
    "    ind = len(tuple2index)\n",
    "    \n",
    "    if tup not in seen_states :\n",
    "        seen_states.add(tup)\n",
    "        tuple2index[tup] = ind\n",
    "        df.loc[tuple2index[tup]] = INIT_ROW\n",
    "        et.loc[tuple2index[tup]] = ET_INIT\n",
    "        # ets.loc[tuple2index[tup]] = ET_INIT\n",
    "        # etf.loc[tuple2index[tup]] = ET_INIT\n",
    "        \n",
    "        temp_env = Env()\n",
    "        temp_env.set(board_state = np_mat)\n",
    "        valid_action_numbers = temp_env.get_valid_actions()\n",
    "        for action_number in valid_action_numbers:\n",
    "            df[action_number][tuple2index[tup]] = OPTIMISTIC_INTI_VAL\n",
    "        \n",
    "    return tuple2index[tup]"
   ]
  },
  {
   "cell_type": "code",
   "execution_count": null,
   "metadata": {},
   "outputs": [],
   "source": [
    "def select_action(np_state, ep = 0):\n",
    "    tup = np2tuple(np_state)\n",
    "    sample = random.random()\n",
    "    if sample < ep:\n",
    "        return env.sample_valid_action()\n",
    "    else:\n",
    "        return df.iloc[tuple2index[tup]].idxmax(axis = 0)            "
   ]
  },
  {
   "cell_type": "code",
   "execution_count": null,
   "metadata": {},
   "outputs": [],
   "source": [
    "def save_pickle():\n",
    "    df.to_pickle(dataframe_path)\n",
    "\n",
    "    with open(tuple2index_path, 'wb') as f:\n",
    "        pickle.dump(tuple2index, f)\n",
    "        f.close()\n",
    "    "
   ]
  },
  {
   "cell_type": "code",
   "execution_count": null,
   "metadata": {},
   "outputs": [],
   "source": [
    "def load_pickle():\n",
    "    global df\n",
    "    global tuple2index\n",
    "    df = pd.read_pickle(dataframe_path)\n",
    "    \n",
    "    tuple2index = pickle.load( open( tuple2index_path, \"rb\" ) )"
   ]
  },
  {
   "cell_type": "code",
   "execution_count": null,
   "metadata": {},
   "outputs": [],
   "source": [
    "def reorient(np_state):\n",
    "    original = np.copy(np_state)\n",
    "    if np2tuple(np_state) in seen_state:\n",
    "        return np_state\n",
    "    \n",
    "    # anti-clock 1\n",
    "    np_state = np.rot90(np_state)\n",
    "    if np2tuple(np_state) in seen_state:\n",
    "        return np_state\n",
    "    \n",
    "    # anti-clock 2\n",
    "    np_state = np.rot90(np_state)\n",
    "    if np2tuple(np_state) in seen_state:\n",
    "        return np_state\n",
    "    \n",
    "    # anti-clock 3\n",
    "    np_state = np.rot90(np_state)\n",
    "    if np2tuple(np_state) in seen_state:\n",
    "        return np_state\n",
    "    \n",
    "    #Mirror horizontally\n",
    "    np_state = np.fliplr(original)\n",
    "    \n",
    "    if np2tuple(np_state) in seen_state:\n",
    "        return np_state\n",
    "    \n",
    "    # flipped anti-clock 1\n",
    "    np_state = np.rot90(np_state)\n",
    "    if np2tuple(np_state) in seen_state:\n",
    "        return np_state\n",
    "    \n",
    "    # flipped anti-clock 2\n",
    "    np_state = np.rot90(np_state)\n",
    "    if np2tuple(np_state) in seen_state:\n",
    "        return np_state\n",
    "    \n",
    "    # flipped anti-clock 3\n",
    "    np_state = np.rot90(np_state)\n",
    "    if np2tuple(np_state) in seen_state:\n",
    "        return np_state\n",
    "    \n",
    "    return original"
   ]
  },
  {
   "cell_type": "code",
   "execution_count": null,
   "metadata": {},
   "outputs": [],
   "source": [
    "#load_pickle()\n",
    "writer = SummaryWriter(comment='__')"
   ]
  },
  {
   "cell_type": "code",
   "execution_count": null,
   "metadata": {},
   "outputs": [],
   "source": [
    "### Mod this \n",
    "\n",
    "for i_episode in range(NUM_EPISODES):\n",
    "    state = env.reset()\n",
    "    done = False\n",
    "    total_reward = 0\n",
    "    \n",
    "    for col in et.columns:\n",
    "        et[col].values[:] = 0\n",
    "        # ets[col].values[:] = 0\n",
    "        # etf[col].values[:] = 0\n",
    "    \n",
    "    while not done:     \n",
    "        \n",
    "        #state = reorient(state)\n",
    "    \n",
    "        index = get_index(state)       \n",
    "        \n",
    "        action = select_action(state)\n",
    "        next_state, reward, done = env.step(action)\n",
    "        next_state = reorient(next_state)\n",
    "        \n",
    "        \n",
    "        next_index = get_index(next_state)\n",
    "        et[action][index] += 1       \n",
    "        \n",
    "        next_action = select_action(next_state)     \n",
    "        \n",
    "        if done:\n",
    "            on_board = env.get_count()\n",
    "            #print(env.get_state())\n",
    "            if on_board  == 1:\n",
    "                # game success\n",
    "                reward = reward*1000\n",
    "            else:\n",
    "                # wrong solution\n",
    "                # negative reward\n",
    "                reward = -(on_board*10)\n",
    "                \n",
    "        delta = (reward + (df[next_action][next_index] * GAMMA)) - df[action][index]        \n",
    "        \n",
    "        temp_df = df.mul(et)\n",
    "        temp_df *= LEARN_RATE\n",
    "        temp_df *= delta\n",
    "        df += temp_df\n",
    "        et *= LAMBDA        \n",
    "        \n",
    "        total_reward += reward        \n",
    "        state = next_state\n",
    "        env.set(board_state=state)\n",
    "        \n",
    "    writer.add_scalar(tag_reward, total_reward, i_episode)    \n",
    "    writer.add_scalar(tag_se, len(tuple2index), i_episode)\n",
    "    clear_output()\n",
    "    print(total_reward)\n",
    "    print(env.get_state())\n",
    "    \n",
    "    \n",
    "    if i_episode % 50 == 0:\n",
    "        save_pickle()\n",
    "        \n",
    "print('Complete')"
   ]
  }
 ],
 "metadata": {
  "kernelspec": {
   "display_name": "Python 3",
   "language": "python",
   "name": "python3"
  },
  "language_info": {
   "codemirror_mode": {
    "name": "ipython",
    "version": 3
   },
   "file_extension": ".py",
   "mimetype": "text/x-python",
   "name": "python",
   "nbconvert_exporter": "python",
   "pygments_lexer": "ipython3",
   "version": "3.7.1"
  }
 },
 "nbformat": 4,
 "nbformat_minor": 2
}
