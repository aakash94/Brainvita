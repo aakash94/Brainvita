{
 "cells": [
  {
   "cell_type": "code",
   "execution_count": null,
   "metadata": {},
   "outputs": [],
   "source": [
    "from Env import Env\n",
    "import math\n",
    "import random\n",
    "import numpy as np\n",
    "import pandas as pd\n",
    "from collections import namedtuple\n",
    "from collections import defaultdict\n"
   ]
  },
  {
   "cell_type": "code",
   "execution_count": null,
   "metadata": {},
   "outputs": [],
   "source": [
    "## writer = SummaryWriter(comment='__')\n",
    "tag_reward = \"reward\"\n",
    "tag_loss = \"loss\"\n",
    "tag_ep = \"epsilon\"\n",
    "r_buff_header = ['state', 'action', 'next_state', 'reward', 'done']"
   ]
  },
  {
   "cell_type": "code",
   "execution_count": null,
   "metadata": {},
   "outputs": [],
   "source": [
    "action_range = list(range(Env.ACTION_N))"
   ]
  },
  {
   "cell_type": "code",
   "execution_count": null,
   "metadata": {},
   "outputs": [],
   "source": [
    "BATCH_SIZE = 128\n",
    "GAMMA      = 0.9 # discount factor\n",
    "EPSILON    = 1\n",
    "ESUB       = 0.01\n",
    "EMIN       = 0.025\n",
    "LEARN_RATE = 0.001\n",
    "EDECAY = 0.99\n",
    "\n",
    "STATE_N  = Env.DIM * Env.DIM\n",
    "ACTION_N = Env.ACTION_N\n",
    "\n",
    "NUM_EPISODES = 100000\n",
    "\n",
    "MINREWARD = 25\n",
    "MINREWARD_INCREMENT = 1\n",
    "INIT_ROW = [-500]*Env.ACTION_N # all actions invalid to start with\n",
    "OPTIMISTIC_INTI_VAL = 12"
   ]
  },
  {
   "cell_type": "code",
   "execution_count": null,
   "metadata": {},
   "outputs": [],
   "source": [
    "env = Env()"
   ]
  },
  {
   "cell_type": "code",
   "execution_count": null,
   "metadata": {},
   "outputs": [],
   "source": [
    "def np2tuple(np_array_2d):\n",
    "    return tuple(np_array_2d.ravel())"
   ]
  },
  {
   "cell_type": "code",
   "execution_count": null,
   "metadata": {},
   "outputs": [],
   "source": [
    "tuple2index = defaultdict(lambda:-1)"
   ]
  },
  {
   "cell_type": "code",
   "execution_count": null,
   "metadata": {},
   "outputs": [],
   "source": [
    "action_header = list(range(Env.ACTION_N))"
   ]
  },
  {
   "cell_type": "code",
   "execution_count": null,
   "metadata": {},
   "outputs": [],
   "source": [
    "df = pd.DataFrame(columns=action_header)        "
   ]
  },
  {
   "cell_type": "code",
   "execution_count": null,
   "metadata": {},
   "outputs": [],
   "source": [
    "def get_index(np_mat):\n",
    "    tup = np2tuple(np_mat)\n",
    "    ind = len(tuple2index)\n",
    "    \n",
    "    if tuple2index[tup] == -1:        \n",
    "        tuple2index[tup] = ind\n",
    "        df.loc[tuple2index[tup]] = INIT_ROW\n",
    "        \n",
    "        temp_env = Env()\n",
    "        temp_env.set(board_state = np_mat)\n",
    "        valid_action_numbers = temp_env.get_valid_actions()\n",
    "        for action_number in valid_action_numbers:\n",
    "            df[action_number][tuple2index[tup]] = OPTIMISTIC_INTI_VAL\n",
    "        \n",
    "    return tuple2index[tup]"
   ]
  },
  {
   "cell_type": "code",
   "execution_count": null,
   "metadata": {},
   "outputs": [],
   "source": [
    "i_mat = np.copy(Env.INIT_STATE)\n",
    "b_mat = np.random.randint(2, size=(7,7))\n",
    "env.set(board_state = b_mat)\n",
    "env.boardify()"
   ]
  },
  {
   "cell_type": "code",
   "execution_count": null,
   "metadata": {},
   "outputs": [],
   "source": [
    "ind = get_index(i_mat)\n",
    "print(ind)\n",
    "ind = get_index(b_mat)\n",
    "print(ind)"
   ]
  },
  {
   "cell_type": "code",
   "execution_count": null,
   "metadata": {},
   "outputs": [],
   "source": [
    "print(df)"
   ]
  },
  {
   "cell_type": "code",
   "execution_count": null,
   "metadata": {},
   "outputs": [],
   "source": []
  },
  {
   "cell_type": "code",
   "execution_count": null,
   "metadata": {},
   "outputs": [],
   "source": []
  },
  {
   "cell_type": "code",
   "execution_count": null,
   "metadata": {},
   "outputs": [],
   "source": [
    "df[69][1] = 20\n",
    "df[2][0] = 30\n",
    "df[4][0] = 30"
   ]
  },
  {
   "cell_type": "code",
   "execution_count": null,
   "metadata": {},
   "outputs": [],
   "source": [
    "print(df)"
   ]
  },
  {
   "cell_type": "code",
   "execution_count": null,
   "metadata": {},
   "outputs": [],
   "source": [
    "print(df[2][0])\n",
    "a = df.idxmax(axis = 1)\n",
    "print(a)"
   ]
  },
  {
   "cell_type": "code",
   "execution_count": null,
   "metadata": {},
   "outputs": [],
   "source": []
  },
  {
   "cell_type": "code",
   "execution_count": null,
   "metadata": {},
   "outputs": [],
   "source": [
    "print(df[71][0]) # first col then row"
   ]
  },
  {
   "cell_type": "code",
   "execution_count": null,
   "metadata": {},
   "outputs": [],
   "source": []
  },
  {
   "cell_type": "code",
   "execution_count": null,
   "metadata": {},
   "outputs": [],
   "source": [
    "def select_action(state, ep = 0):    \n",
    "    \n",
    "    sample = random.random()    \n",
    "    #state = state.view(-1,1,Env.DIM,Env.DIM).float()\n",
    "    if sample < ep:\n",
    "        return env.sample_valid_action()\n",
    "    else:\n",
    "        with torch.no_grad():\n",
    "            # replace logic heere"
   ]
  },
  {
   "cell_type": "code",
   "execution_count": null,
   "metadata": {},
   "outputs": [],
   "source": []
  },
  {
   "cell_type": "code",
   "execution_count": null,
   "metadata": {},
   "outputs": [],
   "source": [
    "### Mod this \n",
    "\n",
    "for i_episode in range(NUM_EPISODES):\n",
    "    state = env.reset()\n",
    "    done = False\n",
    "    total_reward = 0\n",
    "    while not done:        \n",
    "        action = select_action(state, ep = EPSILON)\n",
    "        next_state, reward, done = env.step(action)        \n",
    "        \n",
    "        if done:\n",
    "            on_board = env.get_count()\n",
    "            if on_board  == 1:\n",
    "                # game success\n",
    "                reward = 100\n",
    "            else:\n",
    "                # wrong solution\n",
    "                # negative reward\n",
    "                reward = -(on_board*10)\n",
    "                \n",
    "        total_reward += reward\n",
    "        buffer.insert(state, action, next_state, reward, done)\n",
    "        state = next_state        \n",
    "        \n",
    "    writer.add_scalar(tag_reward, total_reward, i_episode)\n",
    "    writer.add_scalar(tag_ep, EPSILON, i_episode)\n",
    "    \n",
    "    optimize_model(i_episode)\n",
    "    \n",
    "    if i_episode%100 == 0 and i_episode > BATCH_SIZE:\n",
    "        EPSILON *= EDECAY\n",
    "    '''\n",
    "    if EPSILON >= 0.1 and i_episode > BATCH_SIZE and total_reward > MINREWARD:        \n",
    "        EPSILON -= ESUB\n",
    "        MINREWARD += MINREWARD_INCREMENT\n",
    "        if EPSILON == 0:\n",
    "            EPSILON = EMIN\n",
    "    '''\n",
    "        \n",
    "print('Complete')"
   ]
  },
  {
   "cell_type": "code",
   "execution_count": null,
   "metadata": {},
   "outputs": [],
   "source": []
  },
  {
   "cell_type": "code",
   "execution_count": null,
   "metadata": {},
   "outputs": [],
   "source": [
    "abc = defaultdict(lambda:-1)"
   ]
  },
  {
   "cell_type": "code",
   "execution_count": null,
   "metadata": {},
   "outputs": [],
   "source": [
    "abc['a'] = 12\n"
   ]
  },
  {
   "cell_type": "code",
   "execution_count": null,
   "metadata": {},
   "outputs": [],
   "source": [
    "print(abc['a'])\n",
    "print(abc['b'])\n",
    "\n",
    "print(abc)\n"
   ]
  },
  {
   "cell_type": "code",
   "execution_count": null,
   "metadata": {},
   "outputs": [],
   "source": []
  }
 ],
 "metadata": {
  "kernelspec": {
   "display_name": "Python 3",
   "language": "python",
   "name": "python3"
  },
  "language_info": {
   "codemirror_mode": {
    "name": "ipython",
    "version": 3
   },
   "file_extension": ".py",
   "mimetype": "text/x-python",
   "name": "python",
   "nbconvert_exporter": "python",
   "pygments_lexer": "ipython3",
   "version": "3.7.1"
  }
 },
 "nbformat": 4,
 "nbformat_minor": 2
}
