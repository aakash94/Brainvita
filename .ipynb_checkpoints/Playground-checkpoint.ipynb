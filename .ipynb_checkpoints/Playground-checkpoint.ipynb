{
 "cells": [
  {
   "cell_type": "code",
   "execution_count": 6,
   "metadata": {},
   "outputs": [],
   "source": [
    "import numpy as np\n",
    "from enum import Enum\n",
    "from collections import namedtuple"
   ]
  },
  {
   "cell_type": "code",
   "execution_count": 7,
   "metadata": {},
   "outputs": [],
   "source": [
    "DIM = 7\n",
    "INIT_STATE = np.array([[0, 0, 1, 1, 1, 0, 0], [0, 0, 1, 1, 1, 0, 0], [1, 1, 1, 1, 1, 1, 1], [1, 1, 1, 0, 1, 1, 1], [1, 1, 1, 1, 1, 1, 1], [0, 0, 1, 1, 1, 0, 0],[0, 0, 1, 1, 1, 0, 0]])\n",
    "\n",
    "VALID_LOC_COUNT = (DIM*DIM)-(4*2*2)"
   ]
  },
  {
   "cell_type": "code",
   "execution_count": 4,
   "metadata": {},
   "outputs": [
    {
     "name": "stdout",
     "output_type": "stream",
     "text": [
      "[[0 0 1 1 1 0 0]\n",
      " [0 0 1 1 1 0 0]\n",
      " [1 1 1 1 1 1 1]\n",
      " [1 1 1 0 1 1 1]\n",
      " [1 1 1 1 1 1 1]\n",
      " [0 0 1 1 1 0 0]\n",
      " [0 0 1 1 1 0 0]]\n"
     ]
    }
   ],
   "source": [
    "print(INIT_STATE)"
   ]
  },
  {
   "cell_type": "code",
   "execution_count": 8,
   "metadata": {},
   "outputs": [],
   "source": [
    "Action = namedtuple('Action','row col move')"
   ]
  },
  {
   "cell_type": "code",
   "execution_count": 9,
   "metadata": {},
   "outputs": [],
   "source": [
    "class Move(Enum):\n",
    "        EAST = 0\n",
    "        NORTH = 1\n",
    "        WEST = 2\n",
    "        SOUTH = 3"
   ]
  },
  {
   "cell_type": "code",
   "execution_count": 13,
   "metadata": {},
   "outputs": [],
   "source": [
    "possible_actions = {\n",
    "    \n",
    "    0    : Action(row = 0, col = 2, move=Move.EAST), \n",
    "    1    : Action(row = 0, col = 2, move=Move.SOUTH),\n",
    "    \n",
    "    2    : Action(row = 0, col = 3, move=Move.SOUTH),\n",
    "    \n",
    "    3    : Action(row = 0, col = 4, move=Move.WEST), \n",
    "    4    : Action(row = 0, col = 4, move=Move.SOUTH),\n",
    "    \n",
    "    \n",
    "    5    : Action(row = 1, col = 2, move=Move.EAST),\n",
    "    6    : Action(row = 1, col = 2, move=Move.SOUTH),\n",
    "    \n",
    "    7    : Action(row = 1, col = 2, move=Move.SOUTH),\n",
    "    \n",
    "    8    : Action(row = 1, col = 2, move=Move.WEST),\n",
    "    9    : Action(row = 1, col = 2, move=Move.SOUTH),\n",
    "        \n",
    "\n",
    "    10    : Action(row = 2, col = 0, move=Move.EAST), \n",
    "    11    : Action(row = 2, col = 0, move=Move.SOUTH),\n",
    "    \n",
    "    12    : Action(row = 2, col = 1, move=Move.EAST),\n",
    "    13    : Action(row = 2, col = 1, move=Move.SOUTH),\n",
    "    \n",
    "    14    : Action(row = 2, col = 2, move=Move.EAST),\n",
    "    15    : Action(row = 2, col = 2, move=Move.NORTH),\n",
    "    16    : Action(row = 2, col = 2, move=Move.WEST),\n",
    "    17    : Action(row = 2, col = 2, move=Move.SOUTH), \n",
    "    \n",
    "    18    : Action(row = 2, col = 3, move=Move.EAST),\n",
    "    19    : Action(row = 2, col = 3, move=Move.NORTH),\n",
    "    20    : Action(row = 2, col = 3, move=Move.WEST), \n",
    "    21    : Action(row = 2, col = 3, move=Move.SOUTH),\n",
    "    \n",
    "    22    : Action(row = 2, col = 4, move=Move.EAST),\n",
    "    23    : Action(row = 2, col = 4, move=Move.NORTH), \n",
    "    24    : Action(row = 2, col = 4, move=Move.WEST),    \n",
    "    25    : Action(row = 2, col = 4, move=Move.SOUTH),\n",
    "    \n",
    "    26    : Action(row = 2, col = 5, move=Move.WEST),\n",
    "    27    : Action(row = 2, col = 5, move=Move.SOUTH),\n",
    "    \n",
    "    28    : Action(row = 2, col = 6, move=Move.WEST),\n",
    "    29    : Action(row = 2, col = 6, move=Move.SOUTH),\n",
    "\n",
    "        \n",
    "    30    : Action(row = 3, col = 0, move=Move.EAST), \n",
    "    \n",
    "    31    : Action(row = 3, col = 1, move=Move.EAST),\n",
    "    \n",
    "    32    : Action(row = 3, col = 2, move=Move.EAST),\n",
    "    33    : Action(row = 3, col = 2, move=Move.NORTH), \n",
    "    34    : Action(row = 3, col = 2, move=Move.WEST),\n",
    "    35    : Action(row = 3, col = 2, move=Move.SOUTH),\n",
    "    \n",
    "    36    : Action(row = 3, col = 3, move=Move.EAST),\n",
    "    37    : Action(row = 3, col = 3, move=Move.NORTH), \n",
    "    38    : Action(row = 3, col = 3, move=Move.WEST),\n",
    "    39    : Action(row = 3, col = 3, move=Move.SOUTH),\n",
    "    \n",
    "    40    : Action(row = 3, col = 4, move=Move.EAST),\n",
    "    41    : Action(row = 3, col = 4, move=Move.NORTH), \n",
    "    42    : Action(row = 3, col = 4, move=Move.WEST),\n",
    "    43    : Action(row = 3, col = 4, move=Move.SOUTH),\n",
    "\n",
    "    44    : Action(row = 3, col = 5, move=Move.WEST),\n",
    "    \n",
    "    45    : Action(row = 3, col = 6, move=Move.WEST),\n",
    "    \n",
    "    \n",
    "    46    : Action(row = 4, col = 0, move=Move.EAST),\n",
    "    47    : Action(row = 4, col = 0, move=Move.NORTH),\n",
    "    \n",
    "    48    : Action(row = 4, col = 1, move=Move.EAST),\n",
    "    49    : Action(row = 4, col = 1, move=Move.NORTH),\n",
    "\n",
    "    50    : Action(row = 4, col = 2, move=Move.EAST), \n",
    "    51    : Action(row = 4, col = 2, move=Move.SOUTH),\n",
    "    52    : Action(row = 4, col = 2, move=Move.SOUTH),\n",
    "    53    : Action(row = 4, col = 2, move=Move.EAST), \n",
    "    \n",
    "    54    : Action(row = 4, col = 3, move=Move.EAST),\n",
    "    55    : Action(row = 4, col = 3, move=Move.NORTH),\n",
    "    56    : Action(row = 4, col = 3, move=Move.WEST),\n",
    "    57    : Action(row = 4, col = 3, move=Move.SOUTH), \n",
    "    \n",
    "    58    : Action(row = 4, col = 4, move=Move.EAST),\n",
    "    59    : Action(row = 4, col = 4, move=Move.NORTH),\n",
    "    60    : Action(row = 4, col = 4, move=Move.WEST), \n",
    "    61    : Action(row = 4, col = 4, move=Move.SOUTH),\n",
    "    \n",
    "    62    : Action(row = 4, col = 5, move=Move.NORTH),\n",
    "    63    : Action(row = 4, col = 5, move=Move.WEST), \n",
    "    \n",
    "    64    : Action(row = 4, col = 6, move=Move.NORTH),\n",
    "    65    : Action(row = 4, col = 6, move=Move.WEST),\n",
    "    \n",
    "    \n",
    "    66    : Action(row = 5, col = 2, move=Move.EAST),\n",
    "    67    : Action(row = 5, col = 2, move=Move.NORTH), \n",
    "    \n",
    "    68    : Action(row = 5, col = 3, move=Move.NORTH),\n",
    "    \n",
    "    69    : Action(row = 5, col = 4, move=Move.NORTH),\n",
    "    70    : Action(row = 5, col = 4, move=Move.WEST), \n",
    "    \n",
    "    \n",
    "    71    : Action(row = 6, col = 2, move=Move.EAST),\n",
    "    72    : Action(row = 6, col = 2, move=Move.NORTH),\n",
    "    \n",
    "    73    : Action(row = 6, col = 3, move=Move.NORTH), \n",
    "    \n",
    "    74    : Action(row = 6, col = 4, move=Move.NORTH),\n",
    "    75    : Action(row = 6, col = 4, move=Move.WEST)\n",
    "    \n",
    "}"
   ]
  },
  {
   "cell_type": "code",
   "execution_count": 11,
   "metadata": {},
   "outputs": [],
   "source": [
    "def boardify(_board):\n",
    "    \n",
    "    _board[0:2,0:2] = 0\n",
    "    _board[5:7,0:2] = 0\n",
    "    _board[0:2,5:7] = 0\n",
    "    _board[5:7,5:7] = 0\n",
    "    \n",
    "    if np.sum(_board) == 33:\n",
    "        _board[3, 3] = 0\n",
    "    return _board"
   ]
  },
  {
   "cell_type": "code",
   "execution_count": null,
   "metadata": {},
   "outputs": [],
   "source": [
    "#board = np.ones((7,7), dtype = 'int8')\n",
    "board = np.random.randint(2, size=(DIM, DIM))\n",
    "print(board)\n",
    "board = boardify(board)\n",
    "print(board)"
   ]
  },
  {
   "cell_type": "code",
   "execution_count": null,
   "metadata": {},
   "outputs": [],
   "source": [
    "def __init__(setup = INIT_STATE):\n",
    "    board = setup"
   ]
  },
  {
   "cell_type": "code",
   "execution_count": null,
   "metadata": {},
   "outputs": [],
   "source": [
    "def step(action):\n",
    "    # action should tell 2 things\n",
    "    # 1. Location / Position of piece to be moved\n",
    "    # 2. direction of piece to be moves\n",
    "    pass"
   ]
  },
  {
   "cell_type": "code",
   "execution_count": null,
   "metadata": {},
   "outputs": [],
   "source": [
    "def reset():\n",
    "    board = INIT_STATE"
   ]
  },
  {
   "cell_type": "code",
   "execution_count": null,
   "metadata": {},
   "outputs": [],
   "source": [
    "def valid_action(board, action):\n",
    "    return False"
   ]
  },
  {
   "cell_type": "code",
   "execution_count": null,
   "metadata": {},
   "outputs": [],
   "source": [
    "def get_count(board):\n",
    "    pass"
   ]
  }
 ],
 "metadata": {
  "kernelspec": {
   "display_name": "Python 3",
   "language": "python",
   "name": "python3"
  },
  "language_info": {
   "codemirror_mode": {
    "name": "ipython",
    "version": 3
   },
   "file_extension": ".py",
   "mimetype": "text/x-python",
   "name": "python",
   "nbconvert_exporter": "python",
   "pygments_lexer": "ipython3",
   "version": "3.7.1"
  }
 },
 "nbformat": 4,
 "nbformat_minor": 2
}
